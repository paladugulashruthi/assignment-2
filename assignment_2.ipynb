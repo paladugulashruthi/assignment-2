{
  "nbformat": 4,
  "nbformat_minor": 0,
  "metadata": {
    "colab": {
      "name": "assignment-2.ipynb",
      "provenance": [],
      "collapsed_sections": [],
      "authorship_tag": "ABX9TyMvIc48yTcumcRVKYbwKAbe",
      "include_colab_link": true
    },
    "kernelspec": {
      "name": "python3",
      "display_name": "Python 3"
    }
  },
  "cells": [
    {
      "cell_type": "markdown",
      "metadata": {
        "id": "view-in-github",
        "colab_type": "text"
      },
      "source": [
        "<a href=\"https://colab.research.google.com/github/paladugulashruthi/assignment-2/blob/master/assignment_2.ipynb\" target=\"_parent\"><img src=\"https://colab.research.google.com/assets/colab-badge.svg\" alt=\"Open In Colab\"/></a>"
      ]
    },
    {
      "cell_type": "markdown",
      "metadata": {
        "id": "6nYKEFJKEt_C",
        "colab_type": "text"
      },
      "source": [
        "1. Given the lengths of three sides of a triangle, calculate the area of the triangle."
      ]
    },
    {
      "cell_type": "code",
      "metadata": {
        "id": "Qn5NdhVxDn8-",
        "colab_type": "code",
        "colab": {
          "base_uri": "https://localhost:8080/",
          "height": 88
        },
        "outputId": "36a147f2-e5c6-4693-a537-76eb984b0e37"
      },
      "source": [
        "a=float(input(\"Enter length of 1st side of a triangle:\"))  \n",
        "b=float(input(\"Enter length of 2nd side of a triangle:\"))  \n",
        "c=float(input(\"Enter length of 3rd side of a triangle:\"))  \n",
        "if(a+b>c):\n",
        "  s=(a+b+c)/2  \n",
        "  area=(s*(s-a)*(s-b)*(s-c))**(1/2)\n",
        "  print(\"The area of the triangle is= \", round(area,2))\n",
        "else:\n",
        "  print(\"The triangle is not possible\")\n"
      ],
      "execution_count": 1,
      "outputs": [
        {
          "output_type": "stream",
          "text": [
            "Enter length of 1st side of a triangle:6\n",
            "Enter length of 2nd side of a triangle:4\n",
            "Enter length of 3rd side of a triangle:8\n",
            "The area of the triangle is=  11.62\n"
          ],
          "name": "stdout"
        }
      ]
    },
    {
      "cell_type": "markdown",
      "metadata": {
        "id": "4libv80hE3p5",
        "colab_type": "text"
      },
      "source": [
        "2. Take a string from end user and check if the value is palindrome or not."
      ]
    },
    {
      "cell_type": "code",
      "metadata": {
        "id": "zOnSdlQPE8iC",
        "colab_type": "code",
        "colab": {
          "base_uri": "https://localhost:8080/",
          "height": 52
        },
        "outputId": "4ab225ce-51a7-4917-a5ea-e9f150ebfad2"
      },
      "source": [
        "s=input(\"Enter a string:\")\n",
        "if(s==s[::-1]):\n",
        "    print(\"Given string {} is palindrome\".format(s))\n",
        "else:\n",
        "    print(\"Given string {} is not palindrome\".format(s))"
      ],
      "execution_count": 2,
      "outputs": [
        {
          "output_type": "stream",
          "text": [
            "Enter a string:ammu\n",
            "Given string ammu is not palindrome\n"
          ],
          "name": "stdout"
        }
      ]
    },
    {
      "cell_type": "markdown",
      "metadata": {
        "id": "htYiGLClFJPg",
        "colab_type": "text"
      },
      "source": [
        "3. Write a program that reads a year from the user and displays a message indicating whether year is leap year or not."
      ]
    },
    {
      "cell_type": "code",
      "metadata": {
        "id": "xvvrI8TyFOHD",
        "colab_type": "code",
        "colab": {
          "base_uri": "https://localhost:8080/",
          "height": 52
        },
        "outputId": "27c71f0e-85d3-4722-fe69-abaa0e208987"
      },
      "source": [
        "year=int(input(\"Enter the year:\"))\n",
        "if(year%4==0 and year%100!=0 or year%400==0):\n",
        "    print(\"{} The entered year is leap year\".format(year))\n",
        "else:\n",
        "    print(\"{} The entered year is not a leap year\".format(year))\n"
      ],
      "execution_count": 3,
      "outputs": [
        {
          "output_type": "stream",
          "text": [
            "Enter the year:2012\n",
            "2012 The entered year is leap year\n"
          ],
          "name": "stdout"
        }
      ]
    },
    {
      "cell_type": "markdown",
      "metadata": {
        "id": "hQAmHpZtFt_c",
        "colab_type": "text"
      },
      "source": [
        "4. Space to Hyphen problem\n",
        "  Take a string as input, and replaces spaces \" \" with hyphens \"-\", and returns a string.\n",
        "  Input: \"This program converts spaces into hyphen\"\n",
        "   Output: \"This-program-converts-spaces-into-hyphen\"\n"
      ]
    },
    {
      "cell_type": "code",
      "metadata": {
        "id": "EgcwHoGoF-tV",
        "colab_type": "code",
        "colab": {
          "base_uri": "https://localhost:8080/",
          "height": 52
        },
        "outputId": "fc9b8d9c-ee4f-48a7-e28c-65382718212d"
      },
      "source": [
        "n=input(\"Enter a string : \")\n",
        "print(n.replace(' ','-'))\n"
      ],
      "execution_count": 4,
      "outputs": [
        {
          "output_type": "stream",
          "text": [
            "Enter a string : hi this is shruthi\n",
            "hi-this-is-shruthi\n"
          ],
          "name": "stdout"
        }
      ]
    },
    {
      "cell_type": "markdown",
      "metadata": {
        "id": "0iufxeVSG3SR",
        "colab_type": "text"
      },
      "source": [
        "5.Unique Sort Problem.   Take a string as input that accepts a comma separated sequence of words as input and prints the unique words in sorted form (alphanumerically).\n",
        "   Input: orange,white,red,cyan,green,magenta,cyan,pink,white\n",
        " Output: cyan,green,magenta,orange,pink,red,white"
      ]
    },
    {
      "cell_type": "code",
      "metadata": {
        "id": "vq2Wbmt8HB-R",
        "colab_type": "code",
        "colab": {
          "base_uri": "https://localhost:8080/",
          "height": 52
        },
        "outputId": "be34f9e0-0660-4a2e-f6fa-ad8195872553"
      },
      "source": [
        "str=input(\"Enter a string: \")\n",
        "s=str.split()\n",
        "s.sort()\n",
        "list(s)\n",
        "set(s)\n"
      ],
      "execution_count": 5,
      "outputs": [
        {
          "output_type": "stream",
          "text": [
            "Enter a string: shruthi \n"
          ],
          "name": "stdout"
        },
        {
          "output_type": "execute_result",
          "data": {
            "text/plain": [
              "{'shruthi'}"
            ]
          },
          "metadata": {
            "tags": []
          },
          "execution_count": 5
        }
      ]
    },
    {
      "cell_type": "markdown",
      "metadata": {
        "id": "lKKNhgfDHMPv",
        "colab_type": "text"
      },
      "source": [
        "6. Tax Calculator\n",
        " Ask the user for their monthly salary. Calculate whether they have to pay tax and if so,\n",
        "  how much is that amount .Print the result."
      ]
    },
    {
      "cell_type": "code",
      "metadata": {
        "id": "pwTQ3r3lHQzp",
        "colab_type": "code",
        "colab": {
          "base_uri": "https://localhost:8080/",
          "height": 52
        },
        "outputId": "b938131e-67d8-49e6-c4f2-f455cfe7f668"
      },
      "source": [
        "salary=int(input(\"Enter the salary : \"))\n",
        "if (salary>=0) and (salary<=250000):\n",
        "    tax=(salary*0)\n",
        "elif (salary>250000) and (salary<=500000):\n",
        "    tax=(salary*0.05)\n",
        "elif (salary>500000) and (salary<=750000):\n",
        "    tax=(salary*0.1)\n",
        "elif (salary>750000) and (salary<=1000000):\n",
        "    tax=(salary*0.15)\n",
        "elif (salary>1000000) and (salary<=1250000):\n",
        "    tax=(salary*0.2)\n",
        "elif (salary>1250000) and (salary<=1500000):\n",
        "    tax=(salary*0.25)\n",
        "else:\n",
        "    tax=(salary*0.3)\n",
        "print(\"Tax is : \",tax)"
      ],
      "execution_count": 6,
      "outputs": [
        {
          "output_type": "stream",
          "text": [
            "Enter the salary : 23000\n",
            "Tax is :  0\n"
          ],
          "name": "stdout"
        }
      ]
    },
    {
      "cell_type": "markdown",
      "metadata": {
        "id": "52O723B3Harn",
        "colab_type": "text"
      },
      "source": [
        "7. Take a list of integers as an argument, and converts it into a single integer (return the integer).\n",
        " input:[11,33,50]\n",
        "output:113350"
      ]
    },
    {
      "cell_type": "code",
      "metadata": {
        "id": "1gDmse6xHhFy",
        "colab_type": "code",
        "colab": {
          "base_uri": "https://localhost:8080/",
          "height": 35
        },
        "outputId": "9f8cbc4c-14d2-455b-edff-c8694d564d1d"
      },
      "source": [
        "l=[11,33,50]\n",
        "for i in l:\n",
        "  print(i,end=\"\")"
      ],
      "execution_count": 7,
      "outputs": [
        {
          "output_type": "stream",
          "text": [
            "113350"
          ],
          "name": "stdout"
        }
      ]
    },
    {
      "cell_type": "markdown",
      "metadata": {
        "id": "k3oIFlJWHnV5",
        "colab_type": "text"
      },
      "source": [
        "8. Units of Time\n",
        "  Create a program that reads duration from the user as a number of days, hours, minutes, and seconds. \n",
        "  Compute and display the total number of seconds represented by this duration."
      ]
    },
    {
      "cell_type": "code",
      "metadata": {
        "id": "LNwY7gDgHuj1",
        "colab_type": "code",
        "colab": {
          "base_uri": "https://localhost:8080/",
          "height": 106
        },
        "outputId": "55f6328f-c334-4452-f9f6-9373f0e06263"
      },
      "source": [
        "days    = int(input(\"Enter number of Days: \"))\n",
        "hours   = int(input(\"Enter number of Hours: \"))\n",
        "minutes = int(input(\"Enter number of Minutes: \"))\n",
        "seconds = int(input(\"Enter number of Seconds: \"))\n",
        "ts = days * 86400\n",
        "ts = ts + ( hours * 3600)\n",
        "ts = ts + ( minutes * 60)\n",
        "ts = ts + seconds\n",
        "print(\"Total number of seconds: \",\"%d\"%(ts))"
      ],
      "execution_count": 9,
      "outputs": [
        {
          "output_type": "stream",
          "text": [
            "Enter number of Days: 230\n",
            "Enter number of Hours: 30\n",
            "Enter number of Minutes: 56\n",
            "Enter number of Seconds: 200\n",
            "Total number of seconds:  19983560\n"
          ],
          "name": "stdout"
        }
      ]
    },
    {
      "cell_type": "markdown",
      "metadata": {
        "id": "L64HgUQcIeyv",
        "colab_type": "text"
      },
      "source": [
        "9. Sort 3 integers\n",
        "  Given three integers (given through user input), sort the numbers using |min| and |max| functions.\n"
      ]
    },
    {
      "cell_type": "code",
      "metadata": {
        "id": "eRV9STZnIjOf",
        "colab_type": "code",
        "colab": {
          "base_uri": "https://localhost:8080/",
          "height": 88
        },
        "outputId": "1edccce8-72c0-44e1-b719-cb12a53c3234"
      },
      "source": [
        "a=int(input(\"Enter the number of a:\"))\n",
        "b=int(input(\"Enter the number of b:\"))\n",
        "c=int(input(\"Enter the number of c:\"))\n",
        "d=min(a,b,c)\n",
        "e=max(a,b,c)\n",
        "f=(a+b+c)-d-e\n",
        "print(\"The Sorted order is:\",d,f,e)\n"
      ],
      "execution_count": 10,
      "outputs": [
        {
          "output_type": "stream",
          "text": [
            "Enter the number of a:20\n",
            "Enter the number of b:30\n",
            "Enter the number of c:40\n",
            "The Sorted order is: 20 30 40\n"
          ],
          "name": "stdout"
        }
      ]
    },
    {
      "cell_type": "markdown",
      "metadata": {
        "id": "O-itRYuEJSn-",
        "colab_type": "text"
      },
      "source": [
        "10.  Write a program that reads a date from the user and computes its immediate successor.The date is the format YYYY-MM-DD. So, 2020-04-15\n",
        "    will have the successor 2020-04-16."
      ]
    },
    {
      "cell_type": "code",
      "metadata": {
        "id": "mQJ0j6lIJc3Q",
        "colab_type": "code",
        "colab": {
          "base_uri": "https://localhost:8080/",
          "height": 88
        },
        "outputId": "590244bf-7852-4ee3-d827-159034eddbd1"
      },
      "source": [
        "year=int(input(\"Enter a year : \"))\n",
        "if year%400== 0:\n",
        "    leapyear=True\n",
        "elif year%100==0:\n",
        "    leapyear=False\n",
        "elif year%4==0:\n",
        "    leapyear=True\n",
        "else:\n",
        "    leapyear=False\n",
        "month=int(input(\"Enter a month between 1 to 12 : \"))\n",
        "if month in (1, 3, 5, 7, 8, 10, 12):\n",
        "    monthlength=31\n",
        "elif month==2:\n",
        "    if leapyear:\n",
        "        monthlength=29\n",
        "    else:\n",
        "        monthlength=28\n",
        "else:\n",
        "    monthlength=30\n",
        "day=int(input(\"Enter a day between 1 to 31 : \"))\n",
        "if day<monthlength:\n",
        "    day+=1\n",
        "else:\n",
        "    day=1\n",
        "    if month==12:\n",
        "        month=1\n",
        "        year+=1\n",
        "    else:\n",
        "        month+=1\n",
        "print(\"The immediate successor is YYYY-MM-DD : %d-%d-%d.\" %(year,month,day))"
      ],
      "execution_count": 11,
      "outputs": [
        {
          "output_type": "stream",
          "text": [
            "Enter a year : 2020\n",
            "Enter a month between 1 to 12 : 6\n",
            "Enter a day between 1 to 31 : 30\n",
            "The immediate successor is YYYY-MM-DD : 2020-7-1.\n"
          ],
          "name": "stdout"
        }
      ]
    },
    {
      "cell_type": "markdown",
      "metadata": {
        "id": "XxHuRZY4JnK4",
        "colab_type": "text"
      },
      "source": [
        "11. Compute product of a list of numbers [45,3,2,89,72,1,10,7]\n",
        "    Output: 121111200\n"
      ]
    },
    {
      "cell_type": "code",
      "metadata": {
        "id": "pywjrH32JtNh",
        "colab_type": "code",
        "colab": {
          "base_uri": "https://localhost:8080/",
          "height": 35
        },
        "outputId": "8e3b0124-217d-4089-ddae-6237150a95b1"
      },
      "source": [
        "list=[45,3,2,89,72,1,10,7]\n",
        "n=1\n",
        "for i in range(len(list)):\n",
        "    n=n*list[i]\n",
        "print(n)\n"
      ],
      "execution_count": 12,
      "outputs": [
        {
          "output_type": "stream",
          "text": [
            "121111200\n"
          ],
          "name": "stdout"
        }
      ]
    },
    {
      "cell_type": "markdown",
      "metadata": {
        "id": "U7IE7v18JxfN",
        "colab_type": "text"
      },
      "source": [
        "12.  Compute given Num_list=[5,6,8,34,89,1] to get desired output.\n",
        "    Output : Out_list=[11,14,42,123,90]"
      ]
    },
    {
      "cell_type": "code",
      "metadata": {
        "id": "5vALe2oJJ2RJ",
        "colab_type": "code",
        "colab": {
          "base_uri": "https://localhost:8080/",
          "height": 35
        },
        "outputId": "4dc0f6cc-ec33-4ee4-9b9f-b2038055e013"
      },
      "source": [
        "l=[5,6,8,34,89,1]\n",
        "Out_list=[]\n",
        "for i in range(len(l)-1):\n",
        "    ol=l[i]+l[i+1]\n",
        "    Out_list.append(ol)\n",
        "print(\"Out_list=\",Out_list)\n"
      ],
      "execution_count": 13,
      "outputs": [
        {
          "output_type": "stream",
          "text": [
            "Out_list= [11, 14, 42, 123, 90]\n"
          ],
          "name": "stdout"
        }
      ]
    },
    {
      "cell_type": "markdown",
      "metadata": {
        "id": "CGETUqN-J7vd",
        "colab_type": "text"
      },
      "source": [
        "13.  Compute given Num_tuple=(5,6,8,3,9,1) to get desired output.\n",
        "   Output : Out_list=[5,30,240,720,6480,6480]  \n"
      ]
    },
    {
      "cell_type": "code",
      "metadata": {
        "id": "_NV2ojDSKA_B",
        "colab_type": "code",
        "colab": {
          "base_uri": "https://localhost:8080/",
          "height": 35
        },
        "outputId": "fe3cb6a3-283b-485c-d940-0302aaa1c32f"
      },
      "source": [
        "tup=(5,6,8,3,9,1)\n",
        "mul=1\n",
        "flag=0\n",
        "l=[0]\n",
        "for i in tup:\n",
        "  mul=mul*i\n",
        "  n=mul\n",
        "  if l[0]==0:\n",
        "    l[0]=n\n",
        "  else:\n",
        "    l.append(mul)\n",
        "#k=tuple(l)\n",
        "print(l)"
      ],
      "execution_count": 15,
      "outputs": [
        {
          "output_type": "stream",
          "text": [
            "[5, 30, 240, 720, 6480, 6480]\n"
          ],
          "name": "stdout"
        }
      ]
    },
    {
      "cell_type": "markdown",
      "metadata": {
        "id": "RxuDPOZwKmnb",
        "colab_type": "text"
      },
      "source": [
        "14.  Write a Python code that takes a number and returns a list of its digits. So for 586392 it should return [5,8,6,3,9,2].\n"
      ]
    },
    {
      "cell_type": "code",
      "metadata": {
        "id": "seA0c0iPKpzc",
        "colab_type": "code",
        "colab": {
          "base_uri": "https://localhost:8080/",
          "height": 52
        },
        "outputId": "0344825b-48bf-42da-cf81-f415cd47cfb8"
      },
      "source": [
        "number=input(\"Enter a number: \")\n",
        "list=[]\n",
        "for n in range(len(number)):\n",
        "    list.append(number[n])\n",
        "print(list)\n"
      ],
      "execution_count": 16,
      "outputs": [
        {
          "output_type": "stream",
          "text": [
            "Enter a number: 2000\n",
            "['2', '0', '0', '0']\n"
          ],
          "name": "stdout"
        }
      ]
    },
    {
      "cell_type": "markdown",
      "metadata": {
        "id": "KapXJKDnKvTw",
        "colab_type": "text"
      },
      "source": [
        "15. Write a program that finds the longest palindromic substring of a given string."
      ]
    },
    {
      "cell_type": "code",
      "metadata": {
        "id": "uCYnqoqtKytx",
        "colab_type": "code",
        "colab": {
          "base_uri": "https://localhost:8080/",
          "height": 52
        },
        "outputId": "51db7100-436b-4025-85e8-51506b2ffb13"
      },
      "source": [
        "def longestpalindrome(n):\n",
        "    d=[[False for i in range(len(n))] for i in range(len(n))]\n",
        "    for i in range(len(n)):\n",
        "        d[i][i]=True\n",
        "    maxlen=1\n",
        "    start=0\n",
        "    for j in range(2,len(n)+1):\n",
        "        for i in range(len(n)-j+1):\n",
        "            end=i+j\n",
        "            if j==2:\n",
        "                if n[i]==n[end-1]:\n",
        "                    d[i][end-1]=True\n",
        "                    maxlen=j\n",
        "                    start=i\n",
        "            else:\n",
        "                if n[i]==n[end-1] and d[i+1][end-2]:\n",
        "                    d[i][end-1]=True\n",
        "                    maxlen=j\n",
        "                    start=i\n",
        "    return n[start:start+maxlen]\n",
        "n=input(\"Enter a string : \")\n",
        "print(longestpalindrome(n))"
      ],
      "execution_count": 17,
      "outputs": [
        {
          "output_type": "stream",
          "text": [
            "Enter a string : shruthi\n",
            "s\n"
          ],
          "name": "stdout"
        }
      ]
    },
    {
      "cell_type": "markdown",
      "metadata": {
        "id": "UaHHCFS8K5D_",
        "colab_type": "text"
      },
      "source": [
        "16.  Substring Check (Bug Funny)\n",
        "    Given two binary strings, A (of length 10) and B (of length 5), output 1 if B is a substring of A and 0 otherwise.\n",
        "     First two lines of input:\n",
        "     1010110010          10110\n",
        "     1110111011           10011\n",
        "     First two lines of output:\n",
        "     1\n",
        "     0\n"
      ]
    },
    {
      "cell_type": "code",
      "metadata": {
        "id": "bODwaJ27K_wu",
        "colab_type": "code",
        "colab": {
          "base_uri": "https://localhost:8080/",
          "height": 70
        },
        "outputId": "ad74cfc6-91ea-4544-eae4-bb4e345156b2"
      },
      "source": [
        "t=int(input())\n",
        "for i in range(t):\n",
        "  A,B=input(\"Enter A string and B string : \").split()\n",
        "  if B in A:\n",
        "    print(\"1\")\n",
        "    break\n",
        "  else:\n",
        "    print(\"0\")\n",
        "    break\n"
      ],
      "execution_count": 22,
      "outputs": [
        {
          "output_type": "stream",
          "text": [
            "10\n",
            "Enter A string and B string : 100110 110\n",
            "1\n"
          ],
          "name": "stdout"
        }
      ]
    },
    {
      "cell_type": "markdown",
      "metadata": {
        "id": "-82wJyi7OQFZ",
        "colab_type": "text"
      },
      "source": [
        "17. given two vesseld, one of which can accomodate a litres of water and the other b litres, determine the number of steps required to obtain exactly c litres of water in one of the vessels.\n",
        "  at the beginning both vessesls are empty. the following operations are counted as steps:\n",
        "  "
      ]
    },
    {
      "cell_type": "code",
      "metadata": {
        "id": "HN3_tMNoMAcD",
        "colab_type": "code",
        "colab": {
          "base_uri": "https://localhost:8080/",
          "height": 106
        },
        "outputId": "28569d55-b815-490b-f606-4002ad62f928"
      },
      "source": [
        "def gcd(a,b):\n",
        "    if b==0: \n",
        "        return a \n",
        "    return gcd(b,a%b) \n",
        "def countsteps(a,b,c): \n",
        "    v1=b\n",
        "    v2=0\n",
        "    count=1\n",
        "    while ((v1 is not c) and (v2 is not c)): \n",
        "        temp=min(v1,a-v2) \n",
        "        v2=v2+temp \n",
        "        v1=v1-temp \n",
        "        count=count+1\n",
        "        if ((v2==c)or(v1==c)): \n",
        "            break\n",
        "        if v1==0: \n",
        "            v1=b \n",
        "            count=count+1\n",
        "        if v2==a: \n",
        "            v2=0\n",
        "            count=count+1\n",
        "    return count \n",
        "def ispossible(a,b,c): \n",
        "    if a>b: \n",
        "        temp=a \n",
        "        a=b \n",
        "        b=temp \n",
        "    if c>b: \n",
        "        return -1\n",
        "    if (c%(gcd(b,a)) is not 0): \n",
        "        return -1\n",
        "    return(min(countsteps(b,a,c),countsteps(a,b,c)))\n",
        "t=int(input(\"Enter no of testcases : \"))\n",
        "for i in range(t):\n",
        "  a=int(input(\"Enter capacity of vessel a : \"))\n",
        "  b=int(input(\"Enter capacity of vessel b : \"))\n",
        "  c=int(input(\"Enter capacity to be obtained :\"))\n",
        "  print(\"Minimum number of steps required is : \",ispossible(a,b,c))\n"
      ],
      "execution_count": 21,
      "outputs": [
        {
          "output_type": "stream",
          "text": [
            "Enter no of testcases : 1\n",
            "Enter capacity of vessel a : 200\n",
            "Enter capacity of vessel b : 300\n",
            "Enter capacity to be obtained :400\n",
            "Minimum number of steps required is :  -1\n"
          ],
          "name": "stdout"
        }
      ]
    }
  ]
}